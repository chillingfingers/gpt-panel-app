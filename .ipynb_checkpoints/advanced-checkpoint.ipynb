{
 "cells": [
  {
   "cell_type": "code",
   "execution_count": 1,
   "metadata": {
    "ExecuteTime": {
     "end_time": "2019-10-31T19:33:44.787866Z",
     "start_time": "2019-10-31T19:33:43.737224Z"
    }
   },
   "outputs": [],
   "source": [
    "# Loading model dependencies\n",
    "import numpy as np\n",
    "import torch\n",
    "import torch.nn.functional as F\n",
    "from transformers import GPT2Tokenizer, GPT2LMHeadModel\n",
    "from random import choice"
   ]
  },
  {
   "cell_type": "code",
   "execution_count": 2,
   "metadata": {
    "ExecuteTime": {
     "end_time": "2019-10-31T19:33:48.221751Z",
     "start_time": "2019-10-31T19:33:44.803743Z"
    },
    "hide_input": false
   },
   "outputs": [],
   "source": [
    "# Downloading the model\n",
    "tok = GPT2Tokenizer.from_pretrained(\"gpt2\")\n",
    "model = GPT2LMHeadModel.from_pretrained(\"gpt2\")"
   ]
  },
  {
   "cell_type": "code",
   "execution_count": 3,
   "metadata": {
    "ExecuteTime": {
     "end_time": "2019-10-31T19:33:48.246961Z",
     "start_time": "2019-10-31T19:33:48.239413Z"
    }
   },
   "outputs": [],
   "source": [
    "# Redefining the predictions function since we now want to return a list of most likely next tokens \n",
    "# instead of a single token. Also, we want to return the proabilities in order to return them to \n",
    "# the user as well.\n",
    "\n",
    "def get_preds(text, model=model, tok=tok, p=0.7):\n",
    "    input_ids = torch.tensor(tok.encode(text)).unsqueeze(0)\n",
    "    \n",
    "    # changed from the basic app to reduce execution time by only passing las hidden layer to lm_head\n",
    "    logits = model.lm_head(model.transformer(input_ids)[0][:,-1,:]) \n",
    "    \n",
    "    probs = F.softmax(logits, dim=-1).squeeze()\n",
    "    idxs = torch.argsort(probs, descending=True)\n",
    "    res,pred_probs = [],[]\n",
    "    for idx in idxs:\n",
    "        res.append(idx)\n",
    "        pred_probs.append(probs[idx])\n",
    "        if sum(pred_probs) > p:\n",
    "            pred_idxs = [idxs.new_tensor([p]) for p in res]\n",
    "            break\n",
    "    preds = [tok.convert_ids_to_tokens(int(p)) for p in pred_idxs]\n",
    "    return [tok.convert_tokens_to_string(pred) for pred in preds], pred_probs"
   ]
  },
  {
   "cell_type": "markdown",
   "metadata": {},
   "source": [
    "# Advanced App"
   ]
  },
  {
   "cell_type": "markdown",
   "metadata": {},
   "source": [
    "Now, we will built upon the basic application and add some more features, namely the ability for the user to select a token out a list of most probably vectors. This is standalone from the code of the previous application. We are utilizing the model and tokenizer ofcourse. "
   ]
  },
  {
   "cell_type": "code",
   "execution_count": 5,
   "metadata": {
    "ExecuteTime": {
     "end_time": "2019-10-31T19:34:37.445290Z",
     "start_time": "2019-10-31T19:34:36.619283Z"
    }
   },
   "outputs": [],
   "source": [
    "import streamlit as st"
   ]
  },
  {
   "cell_type": "code",
   "execution_count": null,
   "metadata": {},
   "outputs": [],
   "source": []
  },
  {
   "cell_type": "code",
   "execution_count": null,
   "metadata": {},
   "outputs": [],
   "source": []
  },
  {
   "cell_type": "code",
   "execution_count": 12,
   "metadata": {
    "ExecuteTime": {
     "end_time": "2019-10-31T18:42:22.514963Z",
     "start_time": "2019-10-31T18:42:22.504034Z"
    }
   },
   "outputs": [],
   "source": [
    "text_input = pn.widgets.TextInput(value=\"\",width=400)\n",
    "generated_text = pn.pane.Markdown(text_input.value)\n",
    "start_button = pn.widgets.Button(name=\"Generate\",button_type=\"primary\")\n",
    "\n",
    "# creating radio buttons for the token options along with probabilities \n",
    "options = [\"\"]\n",
    "radio_button = pn.widgets.RadioButtonGroup(options=options,height=30,width=500)\n",
    "prob_button = pn.widgets.RadioButtonGroup(options=options,height=30,width = 500)\n",
    "\n",
    "# since the prob_button is only to inform the user of the probabilities, we don't need to be enabled\n",
    "prob_button.disabled=True\n",
    "\n",
    "# new click callback function which handles the updation of the radio buttons\n",
    "def click_cb(event):\n",
    "    if radio_button.value == \"<|endoftext|>\": \n",
    "        start_button.disabled = True\n",
    "        return None\n",
    "    generated_text.object += radio_button.value\n",
    "    preds, probs = get_preds(generated_text.object, model, tok)\n",
    "    radio_button.options = preds[:10]\n",
    "    radio_button.value = radio_button.options[np.random.randint(0,len(radio_button.options))]\n",
    "    prob_button.options = [str(round(float(i),2)) for i in probs[:10]]\n",
    "\n",
    "start_button.on_click(click_cb)\n",
    "\n",
    "# call back function in case the text input changes. Essentially, we need to reset our options. \n",
    "def text_change_cb(event):\n",
    "    generated_text.object = event.new\n",
    "    start_button.disabled = False\n",
    "    radio_button.options = options\n",
    "    radio_button.value = radio_button.options[0]\n",
    "    prob_button.options = options\n",
    "\n",
    "# tying the callback function to the text_input widget\n",
    "text_input.param.watch(text_change_cb, 'value')\n",
    "\n",
    "# preparing the app\n",
    "app = pn.Column(text_input,radio_button,prob_button,start_button,generated_text)"
   ]
  },
  {
   "cell_type": "code",
   "execution_count": 13,
   "metadata": {
    "ExecuteTime": {
     "end_time": "2019-10-31T18:42:23.154570Z",
     "start_time": "2019-10-31T18:42:23.150550Z"
    }
   },
   "outputs": [],
   "source": [
    "# Panel spacer object to center our title\n",
    "h_spacer = pn.layout.HSpacer()\n",
    "\n",
    "# defining the title and description \n",
    "title = pn.pane.Markdown(\"# **Text Generator**\")\n",
    "desc = pn.pane.HTML(\"<i>Welcome to the text generator! In order to get started, simply enter some starting input text below, click generate a few times and watch it go! You can also choose to select which token gets chosen using the radio buttons. Probabilities for each of which can be seen underneath. Give it a shot!</i>\")"
   ]
  },
  {
   "cell_type": "code",
   "execution_count": 14,
   "metadata": {
    "ExecuteTime": {
     "end_time": "2019-10-31T18:42:23.475260Z",
     "start_time": "2019-10-31T18:42:23.472190Z"
    }
   },
   "outputs": [],
   "source": [
    "# setting up the final app\n",
    "final_app = pn.Column(pn.Row(h_spacer,title,h_spacer), desc ,app)"
   ]
  },
  {
   "cell_type": "code",
   "execution_count": 15,
   "metadata": {
    "ExecuteTime": {
     "end_time": "2019-10-31T18:42:24.325810Z",
     "start_time": "2019-10-31T18:42:24.295610Z"
    }
   },
   "outputs": [
    {
     "data": {
      "application/vnd.holoviews_exec.v0+json": "",
      "text/html": [
       "<div id='2258'>\n",
       "\n",
       "\n",
       "\n",
       "\n",
       "\n",
       "  <div class=\"bk-root\" id=\"3d0f7be9-d5ec-4779-8320-6bdf3f4023fe\" data-root-id=\"2258\"></div>\n",
       "</div>\n",
       "<script type=\"application/javascript\">\n",
       "    function msg_handler(msg) {\n",
       "      var metadata = msg.metadata;\n",
       "      var buffers = msg.buffers;\n",
       "      var msg = msg.content.data;\n",
       "      if ((metadata.msg_type == \"Ready\")) {\n",
       "        if (metadata.content) {\n",
       "          console.log(\"Python callback returned following output:\", metadata.content);\n",
       "        }\n",
       "      } else if (metadata.msg_type == \"Error\") {\n",
       "        console.log(\"Python failed with the following traceback:\", metadata.traceback)\n",
       "      } else {\n",
       "        \n",
       "var plot_id = \"2258\";\n",
       "if (plot_id in window.PyViz.plot_index) {\n",
       "  var plot = window.PyViz.plot_index[plot_id];\n",
       "} else {\n",
       "  var plot = Bokeh.index[plot_id];\n",
       "}\n",
       "\n",
       "if (plot_id in window.PyViz.receivers) {\n",
       "  var receiver = window.PyViz.receivers[plot_id];\n",
       "} else if (Bokeh.protocol === undefined) {\n",
       "  return;\n",
       "} else {\n",
       "  var receiver = new Bokeh.protocol.Receiver();\n",
       "  window.PyViz.receivers[plot_id] = receiver;\n",
       "}\n",
       "\n",
       "if ((buffers != undefined) && (buffers.length > 0)) {\n",
       "  receiver.consume(buffers[0].buffer)\n",
       "} else {\n",
       "  receiver.consume(msg)\n",
       "}\n",
       "\n",
       "const comm_msg = receiver.message;\n",
       "if ((comm_msg != null) && (Object.keys(comm_msg.content).length > 0)) {\n",
       "  plot.model.document.apply_json_patch(comm_msg.content, comm_msg.buffers)\n",
       "}\n",
       "\n",
       "      }\n",
       "    }\n",
       "    if ((window.PyViz == undefined) || (!window.PyViz.comm_manager)) {\n",
       "      console.log(\"Could not find comm manager\")\n",
       "    } else {\n",
       "      window.PyViz.comm_manager.register_target('2258', '040f68fa370546d38bbd664712c2553e', msg_handler);\n",
       "    }\n",
       "    \n",
       "(function(root) {\n",
       "  function embed_document(root) {\n",
       "    \n",
       "  var docs_json = {\"db92f380-c4c6-4975-b362-0a63c4b1e4bc\":{\"roots\":{\"references\":[{\"attributes\":{\"code\":\"\\nif (!window.PyViz) {\\n  return;\\n}\\nvar receiver = window.PyViz.receivers['2258'];\\nvar events = receiver ? receiver._partial.content.events : [];\\nfor (var event of events) {\\n  if ((event.kind === 'ModelChanged') && (event.attr === 'placeholder') &&\\n      (cb_obj.id === event.model.id) &&\\n      (JSON.stringify(cb_obj['placeholder']) === JSON.stringify(event.new))) {\\n    events.pop(events.indexOf(event))\\n    return;\\n  }\\n}\\n\\ndata = {placeholder: cb_obj['placeholder'], 'id': cb_obj.id};\\ncb_obj.event_name = 'placeholder';\\n\\nfunction unique_events(events) {\\n  // Processes the event queue ignoring duplicate events\\n  // of the same type\\n  var unique = [];\\n  var unique_events = [];\\n  for (var i=0; i<events.length; i++) {\\n    var _tmpevent = events[i];\\n    event = _tmpevent[0];\\n    data = _tmpevent[1];\\n    if (unique_events.indexOf(event)===-1) {\\n      unique.unshift(data);\\n      unique_events.push(event);\\n      }\\n  }\\n  return unique;\\n}\\n\\nfunction process_events(comm_status) {\\n  // Iterates over event queue and sends events via Comm\\n  var events = unique_events(comm_status.event_buffer);\\n  for (var i=0; i<events.length; i++) {\\n    var data = events[i];\\n    var comm = window.PyViz.comms[data[\\\"comm_id\\\"]];\\n    comm.send(data);\\n  }\\n  comm_status.event_buffer = [];\\n}\\n\\nfunction on_msg(msg) {\\n  // Receives acknowledgement from Python, processing event\\n  // and unblocking Comm if event queue empty\\n  var metadata = msg.metadata;\\n  var comm_id = metadata.comm_id\\n  var comm_status = window.PyViz.comm_status[comm_id];\\n  if (comm_status.event_buffer.length) {\\n    process_events(comm_status);\\n    comm_status.blocked = true;\\n    comm_status.time = Date.now()+50;\\n  } else {\\n    comm_status.blocked = false;\\n  }\\n  comm_status.event_buffer = [];\\n  if ((metadata.msg_type == \\\"Ready\\\") && metadata.content) {\\n    console.log(\\\"Python callback returned following output:\\\", metadata.content);\\n  } else if (metadata.msg_type == \\\"Error\\\") {\\n    console.log(\\\"Python failed with the following traceback:\\\", metadata.traceback)\\n  }\\n}\\n\\n// Initialize Comm\\nif ((window.PyViz == undefined) || (window.PyViz.comm_manager == undefined)) { return }\\ncomm = window.PyViz.comm_manager.get_client_comm(\\\"2258\\\", \\\"d255b5b6cc1b4aadb1a3b86252e0c1b0\\\", on_msg);\\nif (!comm) {\\n  return\\n}\\n\\n// Initialize event queue and timeouts for Comm\\nvar comm_status = window.PyViz.comm_status[\\\"d255b5b6cc1b4aadb1a3b86252e0c1b0\\\"];\\nif (comm_status === undefined) {\\n  comm_status = {event_buffer: [], blocked: false, time: Date.now()}\\n  window.PyViz.comm_status[\\\"d255b5b6cc1b4aadb1a3b86252e0c1b0\\\"] = comm_status\\n}\\n\\n// Add current event to queue and process queue if not blocked\\nevent_name = cb_obj.event_name\\ndata['comm_id'] = \\\"d255b5b6cc1b4aadb1a3b86252e0c1b0\\\";\\ntimeout = comm_status.time + 20000;\\nif ((comm_status.blocked && (Date.now() < timeout))) {\\n  comm_status.event_buffer.unshift([event_name, data]);\\n} else {\\n  comm_status.event_buffer.unshift([event_name, data]);\\n  setTimeout(function() { process_events(comm_status); }, 50);\\n  comm_status.blocked = true;\\n  comm_status.time = Date.now()+50;\\n}\\n\"},\"id\":\"2268\",\"type\":\"CustomJS\"},{\"attributes\":{\"code\":\"\\nif (!window.PyViz) {\\n  return;\\n}\\nvar receiver = window.PyViz.receivers['2258'];\\nvar events = receiver ? receiver._partial.content.events : [];\\nfor (var event of events) {\\n  if ((event.kind === 'ModelChanged') && (event.attr === 'clicks') &&\\n      (cb_obj.id === event.model.id) &&\\n      (JSON.stringify(cb_obj['clicks']) === JSON.stringify(event.new))) {\\n    events.pop(events.indexOf(event))\\n    return;\\n  }\\n}\\n\\ndata = {clicks: cb_obj['clicks'], 'id': cb_obj.id};\\ncb_obj.event_name = 'clicks';\\n\\nfunction unique_events(events) {\\n  // Processes the event queue ignoring duplicate events\\n  // of the same type\\n  var unique = [];\\n  var unique_events = [];\\n  for (var i=0; i<events.length; i++) {\\n    var _tmpevent = events[i];\\n    event = _tmpevent[0];\\n    data = _tmpevent[1];\\n    if (unique_events.indexOf(event)===-1) {\\n      unique.unshift(data);\\n      unique_events.push(event);\\n      }\\n  }\\n  return unique;\\n}\\n\\nfunction process_events(comm_status) {\\n  // Iterates over event queue and sends events via Comm\\n  var events = unique_events(comm_status.event_buffer);\\n  for (var i=0; i<events.length; i++) {\\n    var data = events[i];\\n    var comm = window.PyViz.comms[data[\\\"comm_id\\\"]];\\n    comm.send(data);\\n  }\\n  comm_status.event_buffer = [];\\n}\\n\\nfunction on_msg(msg) {\\n  // Receives acknowledgement from Python, processing event\\n  // and unblocking Comm if event queue empty\\n  var metadata = msg.metadata;\\n  var comm_id = metadata.comm_id\\n  var comm_status = window.PyViz.comm_status[comm_id];\\n  if (comm_status.event_buffer.length) {\\n    process_events(comm_status);\\n    comm_status.blocked = true;\\n    comm_status.time = Date.now()+50;\\n  } else {\\n    comm_status.blocked = false;\\n  }\\n  comm_status.event_buffer = [];\\n  if ((metadata.msg_type == \\\"Ready\\\") && metadata.content) {\\n    console.log(\\\"Python callback returned following output:\\\", metadata.content);\\n  } else if (metadata.msg_type == \\\"Error\\\") {\\n    console.log(\\\"Python failed with the following traceback:\\\", metadata.traceback)\\n  }\\n}\\n\\n// Initialize Comm\\nif ((window.PyViz == undefined) || (window.PyViz.comm_manager == undefined)) { return }\\ncomm = window.PyViz.comm_manager.get_client_comm(\\\"2258\\\", \\\"087c1aed08a5419cb349085ae8e10a60\\\", on_msg);\\nif (!comm) {\\n  return\\n}\\n\\n// Initialize event queue and timeouts for Comm\\nvar comm_status = window.PyViz.comm_status[\\\"087c1aed08a5419cb349085ae8e10a60\\\"];\\nif (comm_status === undefined) {\\n  comm_status = {event_buffer: [], blocked: false, time: Date.now()}\\n  window.PyViz.comm_status[\\\"087c1aed08a5419cb349085ae8e10a60\\\"] = comm_status\\n}\\n\\n// Add current event to queue and process queue if not blocked\\nevent_name = cb_obj.event_name\\ndata['comm_id'] = \\\"087c1aed08a5419cb349085ae8e10a60\\\";\\ntimeout = comm_status.time + 20000;\\nif ((comm_status.blocked && (Date.now() < timeout))) {\\n  comm_status.event_buffer.unshift([event_name, data]);\\n} else {\\n  comm_status.event_buffer.unshift([event_name, data]);\\n  setTimeout(function() { process_events(comm_status); }, 50);\\n  comm_status.blocked = true;\\n  comm_status.time = Date.now()+50;\\n}\\n\"},\"id\":\"2282\",\"type\":\"CustomJS\"},{\"attributes\":{\"code\":\"\\nif (!window.PyViz) {\\n  return;\\n}\\nvar receiver = window.PyViz.receivers['2258'];\\nvar events = receiver ? receiver._partial.content.events : [];\\nfor (var event of events) {\\n  if ((event.kind === 'ModelChanged') && (event.attr === 'label') &&\\n      (cb_obj.id === event.model.id) &&\\n      (JSON.stringify(cb_obj['label']) === JSON.stringify(event.new))) {\\n    events.pop(events.indexOf(event))\\n    return;\\n  }\\n}\\n\\ndata = {label: cb_obj['label'], 'id': cb_obj.id};\\ncb_obj.event_name = 'label';\\n\\nfunction unique_events(events) {\\n  // Processes the event queue ignoring duplicate events\\n  // of the same type\\n  var unique = [];\\n  var unique_events = [];\\n  for (var i=0; i<events.length; i++) {\\n    var _tmpevent = events[i];\\n    event = _tmpevent[0];\\n    data = _tmpevent[1];\\n    if (unique_events.indexOf(event)===-1) {\\n      unique.unshift(data);\\n      unique_events.push(event);\\n      }\\n  }\\n  return unique;\\n}\\n\\nfunction process_events(comm_status) {\\n  // Iterates over event queue and sends events via Comm\\n  var events = unique_events(comm_status.event_buffer);\\n  for (var i=0; i<events.length; i++) {\\n    var data = events[i];\\n    var comm = window.PyViz.comms[data[\\\"comm_id\\\"]];\\n    comm.send(data);\\n  }\\n  comm_status.event_buffer = [];\\n}\\n\\nfunction on_msg(msg) {\\n  // Receives acknowledgement from Python, processing event\\n  // and unblocking Comm if event queue empty\\n  var metadata = msg.metadata;\\n  var comm_id = metadata.comm_id\\n  var comm_status = window.PyViz.comm_status[comm_id];\\n  if (comm_status.event_buffer.length) {\\n    process_events(comm_status);\\n    comm_status.blocked = true;\\n    comm_status.time = Date.now()+50;\\n  } else {\\n    comm_status.blocked = false;\\n  }\\n  comm_status.event_buffer = [];\\n  if ((metadata.msg_type == \\\"Ready\\\") && metadata.content) {\\n    console.log(\\\"Python callback returned following output:\\\", metadata.content);\\n  } else if (metadata.msg_type == \\\"Error\\\") {\\n    console.log(\\\"Python failed with the following traceback:\\\", metadata.traceback)\\n  }\\n}\\n\\n// Initialize Comm\\nif ((window.PyViz == undefined) || (window.PyViz.comm_manager == undefined)) { return }\\ncomm = window.PyViz.comm_manager.get_client_comm(\\\"2258\\\", \\\"087c1aed08a5419cb349085ae8e10a60\\\", on_msg);\\nif (!comm) {\\n  return\\n}\\n\\n// Initialize event queue and timeouts for Comm\\nvar comm_status = window.PyViz.comm_status[\\\"087c1aed08a5419cb349085ae8e10a60\\\"];\\nif (comm_status === undefined) {\\n  comm_status = {event_buffer: [], blocked: false, time: Date.now()}\\n  window.PyViz.comm_status[\\\"087c1aed08a5419cb349085ae8e10a60\\\"] = comm_status\\n}\\n\\n// Add current event to queue and process queue if not blocked\\nevent_name = cb_obj.event_name\\ndata['comm_id'] = \\\"087c1aed08a5419cb349085ae8e10a60\\\";\\ntimeout = comm_status.time + 20000;\\nif ((comm_status.blocked && (Date.now() < timeout))) {\\n  comm_status.event_buffer.unshift([event_name, data]);\\n} else {\\n  comm_status.event_buffer.unshift([event_name, data]);\\n  setTimeout(function() { process_events(comm_status); }, 50);\\n  comm_status.blocked = true;\\n  comm_status.time = Date.now()+50;\\n}\\n\"},\"id\":\"2284\",\"type\":\"CustomJS\"},{\"attributes\":{\"margin\":[5,5,5,5],\"name\":\"HTML00039\",\"text\":\"&lt;i&gt;Welcome to the text generator! In order to get started, simply enter some starting input text below, click generate a few times and watch it go! You can also choose to select which token gets chosen using the radio buttons. Probabilities for each of which can be seen underneath. Give it a shot!&lt;/i&gt;\"},\"id\":\"2263\",\"type\":\"HTML\"},{\"attributes\":{\"code\":\"\\nif (!window.PyViz) {\\n  return;\\n}\\nvar receiver = window.PyViz.receivers['2258'];\\nvar events = receiver ? receiver._partial.content.events : [];\\nfor (var event of events) {\\n  if ((event.kind === 'ModelChanged') && (event.attr === 'active') &&\\n      (cb_obj.id === event.model.id) &&\\n      (JSON.stringify(cb_obj['active']) === JSON.stringify(event.new))) {\\n    events.pop(events.indexOf(event))\\n    return;\\n  }\\n}\\n\\ndata = {active: cb_obj['active'], 'id': cb_obj.id};\\ncb_obj.event_name = 'active';\\n\\nfunction unique_events(events) {\\n  // Processes the event queue ignoring duplicate events\\n  // of the same type\\n  var unique = [];\\n  var unique_events = [];\\n  for (var i=0; i<events.length; i++) {\\n    var _tmpevent = events[i];\\n    event = _tmpevent[0];\\n    data = _tmpevent[1];\\n    if (unique_events.indexOf(event)===-1) {\\n      unique.unshift(data);\\n      unique_events.push(event);\\n      }\\n  }\\n  return unique;\\n}\\n\\nfunction process_events(comm_status) {\\n  // Iterates over event queue and sends events via Comm\\n  var events = unique_events(comm_status.event_buffer);\\n  for (var i=0; i<events.length; i++) {\\n    var data = events[i];\\n    var comm = window.PyViz.comms[data[\\\"comm_id\\\"]];\\n    comm.send(data);\\n  }\\n  comm_status.event_buffer = [];\\n}\\n\\nfunction on_msg(msg) {\\n  // Receives acknowledgement from Python, processing event\\n  // and unblocking Comm if event queue empty\\n  var metadata = msg.metadata;\\n  var comm_id = metadata.comm_id\\n  var comm_status = window.PyViz.comm_status[comm_id];\\n  if (comm_status.event_buffer.length) {\\n    process_events(comm_status);\\n    comm_status.blocked = true;\\n    comm_status.time = Date.now()+50;\\n  } else {\\n    comm_status.blocked = false;\\n  }\\n  comm_status.event_buffer = [];\\n  if ((metadata.msg_type == \\\"Ready\\\") && metadata.content) {\\n    console.log(\\\"Python callback returned following output:\\\", metadata.content);\\n  } else if (metadata.msg_type == \\\"Error\\\") {\\n    console.log(\\\"Python failed with the following traceback:\\\", metadata.traceback)\\n  }\\n}\\n\\n// Initialize Comm\\nif ((window.PyViz == undefined) || (window.PyViz.comm_manager == undefined)) { return }\\ncomm = window.PyViz.comm_manager.get_client_comm(\\\"2258\\\", \\\"0faa7d498eea4fb494633f0e037e6758\\\", on_msg);\\nif (!comm) {\\n  return\\n}\\n\\n// Initialize event queue and timeouts for Comm\\nvar comm_status = window.PyViz.comm_status[\\\"0faa7d498eea4fb494633f0e037e6758\\\"];\\nif (comm_status === undefined) {\\n  comm_status = {event_buffer: [], blocked: false, time: Date.now()}\\n  window.PyViz.comm_status[\\\"0faa7d498eea4fb494633f0e037e6758\\\"] = comm_status\\n}\\n\\n// Add current event to queue and process queue if not blocked\\nevent_name = cb_obj.event_name\\ndata['comm_id'] = \\\"0faa7d498eea4fb494633f0e037e6758\\\";\\ntimeout = comm_status.time + 20000;\\nif ((comm_status.blocked && (Date.now() < timeout))) {\\n  comm_status.event_buffer.unshift([event_name, data]);\\n} else {\\n  comm_status.event_buffer.unshift([event_name, data]);\\n  setTimeout(function() { process_events(comm_status); }, 50);\\n  comm_status.blocked = true;\\n  comm_status.time = Date.now()+50;\\n}\\n\"},\"id\":\"2273\",\"type\":\"CustomJS\"},{\"attributes\":{\"code\":\"\\nif (!window.PyViz) {\\n  return;\\n}\\nvar receiver = window.PyViz.receivers['2258'];\\nvar events = receiver ? receiver._partial.content.events : [];\\nfor (var event of events) {\\n  if ((event.kind === 'ModelChanged') && (event.attr === 'disabled') &&\\n      (cb_obj.id === event.model.id) &&\\n      (JSON.stringify(cb_obj['disabled']) === JSON.stringify(event.new))) {\\n    events.pop(events.indexOf(event))\\n    return;\\n  }\\n}\\n\\ndata = {disabled: cb_obj['disabled'], 'id': cb_obj.id};\\ncb_obj.event_name = 'disabled';\\n\\nfunction unique_events(events) {\\n  // Processes the event queue ignoring duplicate events\\n  // of the same type\\n  var unique = [];\\n  var unique_events = [];\\n  for (var i=0; i<events.length; i++) {\\n    var _tmpevent = events[i];\\n    event = _tmpevent[0];\\n    data = _tmpevent[1];\\n    if (unique_events.indexOf(event)===-1) {\\n      unique.unshift(data);\\n      unique_events.push(event);\\n      }\\n  }\\n  return unique;\\n}\\n\\nfunction process_events(comm_status) {\\n  // Iterates over event queue and sends events via Comm\\n  var events = unique_events(comm_status.event_buffer);\\n  for (var i=0; i<events.length; i++) {\\n    var data = events[i];\\n    var comm = window.PyViz.comms[data[\\\"comm_id\\\"]];\\n    comm.send(data);\\n  }\\n  comm_status.event_buffer = [];\\n}\\n\\nfunction on_msg(msg) {\\n  // Receives acknowledgement from Python, processing event\\n  // and unblocking Comm if event queue empty\\n  var metadata = msg.metadata;\\n  var comm_id = metadata.comm_id\\n  var comm_status = window.PyViz.comm_status[comm_id];\\n  if (comm_status.event_buffer.length) {\\n    process_events(comm_status);\\n    comm_status.blocked = true;\\n    comm_status.time = Date.now()+50;\\n  } else {\\n    comm_status.blocked = false;\\n  }\\n  comm_status.event_buffer = [];\\n  if ((metadata.msg_type == \\\"Ready\\\") && metadata.content) {\\n    console.log(\\\"Python callback returned following output:\\\", metadata.content);\\n  } else if (metadata.msg_type == \\\"Error\\\") {\\n    console.log(\\\"Python failed with the following traceback:\\\", metadata.traceback)\\n  }\\n}\\n\\n// Initialize Comm\\nif ((window.PyViz == undefined) || (window.PyViz.comm_manager == undefined)) { return }\\ncomm = window.PyViz.comm_manager.get_client_comm(\\\"2258\\\", \\\"0faa7d498eea4fb494633f0e037e6758\\\", on_msg);\\nif (!comm) {\\n  return\\n}\\n\\n// Initialize event queue and timeouts for Comm\\nvar comm_status = window.PyViz.comm_status[\\\"0faa7d498eea4fb494633f0e037e6758\\\"];\\nif (comm_status === undefined) {\\n  comm_status = {event_buffer: [], blocked: false, time: Date.now()}\\n  window.PyViz.comm_status[\\\"0faa7d498eea4fb494633f0e037e6758\\\"] = comm_status\\n}\\n\\n// Add current event to queue and process queue if not blocked\\nevent_name = cb_obj.event_name\\ndata['comm_id'] = \\\"0faa7d498eea4fb494633f0e037e6758\\\";\\ntimeout = comm_status.time + 20000;\\nif ((comm_status.blocked && (Date.now() < timeout))) {\\n  comm_status.event_buffer.unshift([event_name, data]);\\n} else {\\n  comm_status.event_buffer.unshift([event_name, data]);\\n  setTimeout(function() { process_events(comm_status); }, 50);\\n  comm_status.blocked = true;\\n  comm_status.time = Date.now()+50;\\n}\\n\"},\"id\":\"2272\",\"type\":\"CustomJS\"},{\"attributes\":{\"code\":\"\\nif (!window.PyViz) {\\n  return;\\n}\\nvar receiver = window.PyViz.receivers['2258'];\\nvar events = receiver ? receiver._partial.content.events : [];\\nfor (var event of events) {\\n  if ((event.kind === 'ModelChanged') && (event.attr === 'labels') &&\\n      (cb_obj.id === event.model.id) &&\\n      (JSON.stringify(cb_obj['labels']) === JSON.stringify(event.new))) {\\n    events.pop(events.indexOf(event))\\n    return;\\n  }\\n}\\n\\ndata = {labels: cb_obj['labels'], 'id': cb_obj.id};\\ncb_obj.event_name = 'labels';\\n\\nfunction unique_events(events) {\\n  // Processes the event queue ignoring duplicate events\\n  // of the same type\\n  var unique = [];\\n  var unique_events = [];\\n  for (var i=0; i<events.length; i++) {\\n    var _tmpevent = events[i];\\n    event = _tmpevent[0];\\n    data = _tmpevent[1];\\n    if (unique_events.indexOf(event)===-1) {\\n      unique.unshift(data);\\n      unique_events.push(event);\\n      }\\n  }\\n  return unique;\\n}\\n\\nfunction process_events(comm_status) {\\n  // Iterates over event queue and sends events via Comm\\n  var events = unique_events(comm_status.event_buffer);\\n  for (var i=0; i<events.length; i++) {\\n    var data = events[i];\\n    var comm = window.PyViz.comms[data[\\\"comm_id\\\"]];\\n    comm.send(data);\\n  }\\n  comm_status.event_buffer = [];\\n}\\n\\nfunction on_msg(msg) {\\n  // Receives acknowledgement from Python, processing event\\n  // and unblocking Comm if event queue empty\\n  var metadata = msg.metadata;\\n  var comm_id = metadata.comm_id\\n  var comm_status = window.PyViz.comm_status[comm_id];\\n  if (comm_status.event_buffer.length) {\\n    process_events(comm_status);\\n    comm_status.blocked = true;\\n    comm_status.time = Date.now()+50;\\n  } else {\\n    comm_status.blocked = false;\\n  }\\n  comm_status.event_buffer = [];\\n  if ((metadata.msg_type == \\\"Ready\\\") && metadata.content) {\\n    console.log(\\\"Python callback returned following output:\\\", metadata.content);\\n  } else if (metadata.msg_type == \\\"Error\\\") {\\n    console.log(\\\"Python failed with the following traceback:\\\", metadata.traceback)\\n  }\\n}\\n\\n// Initialize Comm\\nif ((window.PyViz == undefined) || (window.PyViz.comm_manager == undefined)) { return }\\ncomm = window.PyViz.comm_manager.get_client_comm(\\\"2258\\\", \\\"0faa7d498eea4fb494633f0e037e6758\\\", on_msg);\\nif (!comm) {\\n  return\\n}\\n\\n// Initialize event queue and timeouts for Comm\\nvar comm_status = window.PyViz.comm_status[\\\"0faa7d498eea4fb494633f0e037e6758\\\"];\\nif (comm_status === undefined) {\\n  comm_status = {event_buffer: [], blocked: false, time: Date.now()}\\n  window.PyViz.comm_status[\\\"0faa7d498eea4fb494633f0e037e6758\\\"] = comm_status\\n}\\n\\n// Add current event to queue and process queue if not blocked\\nevent_name = cb_obj.event_name\\ndata['comm_id'] = \\\"0faa7d498eea4fb494633f0e037e6758\\\";\\ntimeout = comm_status.time + 20000;\\nif ((comm_status.blocked && (Date.now() < timeout))) {\\n  comm_status.event_buffer.unshift([event_name, data]);\\n} else {\\n  comm_status.event_buffer.unshift([event_name, data]);\\n  setTimeout(function() { process_events(comm_status); }, 50);\\n  comm_status.blocked = true;\\n  comm_status.time = Date.now()+50;\\n}\\n\"},\"id\":\"2274\",\"type\":\"CustomJS\"},{\"attributes\":{\"code\":\"\\nif (!window.PyViz) {\\n  return;\\n}\\nvar receiver = window.PyViz.receivers['2258'];\\nvar events = receiver ? receiver._partial.content.events : [];\\nfor (var event of events) {\\n  if ((event.kind === 'ModelChanged') && (event.attr === 'active') &&\\n      (cb_obj.id === event.model.id) &&\\n      (JSON.stringify(cb_obj['active']) === JSON.stringify(event.new))) {\\n    events.pop(events.indexOf(event))\\n    return;\\n  }\\n}\\n\\ndata = {active: cb_obj['active'], 'id': cb_obj.id};\\ncb_obj.event_name = 'active';\\n\\nfunction unique_events(events) {\\n  // Processes the event queue ignoring duplicate events\\n  // of the same type\\n  var unique = [];\\n  var unique_events = [];\\n  for (var i=0; i<events.length; i++) {\\n    var _tmpevent = events[i];\\n    event = _tmpevent[0];\\n    data = _tmpevent[1];\\n    if (unique_events.indexOf(event)===-1) {\\n      unique.unshift(data);\\n      unique_events.push(event);\\n      }\\n  }\\n  return unique;\\n}\\n\\nfunction process_events(comm_status) {\\n  // Iterates over event queue and sends events via Comm\\n  var events = unique_events(comm_status.event_buffer);\\n  for (var i=0; i<events.length; i++) {\\n    var data = events[i];\\n    var comm = window.PyViz.comms[data[\\\"comm_id\\\"]];\\n    comm.send(data);\\n  }\\n  comm_status.event_buffer = [];\\n}\\n\\nfunction on_msg(msg) {\\n  // Receives acknowledgement from Python, processing event\\n  // and unblocking Comm if event queue empty\\n  var metadata = msg.metadata;\\n  var comm_id = metadata.comm_id\\n  var comm_status = window.PyViz.comm_status[comm_id];\\n  if (comm_status.event_buffer.length) {\\n    process_events(comm_status);\\n    comm_status.blocked = true;\\n    comm_status.time = Date.now()+50;\\n  } else {\\n    comm_status.blocked = false;\\n  }\\n  comm_status.event_buffer = [];\\n  if ((metadata.msg_type == \\\"Ready\\\") && metadata.content) {\\n    console.log(\\\"Python callback returned following output:\\\", metadata.content);\\n  } else if (metadata.msg_type == \\\"Error\\\") {\\n    console.log(\\\"Python failed with the following traceback:\\\", metadata.traceback)\\n  }\\n}\\n\\n// Initialize Comm\\nif ((window.PyViz == undefined) || (window.PyViz.comm_manager == undefined)) { return }\\ncomm = window.PyViz.comm_manager.get_client_comm(\\\"2258\\\", \\\"7c9c99fa3faf48dcbe3446e8044b8edb\\\", on_msg);\\nif (!comm) {\\n  return\\n}\\n\\n// Initialize event queue and timeouts for Comm\\nvar comm_status = window.PyViz.comm_status[\\\"7c9c99fa3faf48dcbe3446e8044b8edb\\\"];\\nif (comm_status === undefined) {\\n  comm_status = {event_buffer: [], blocked: false, time: Date.now()}\\n  window.PyViz.comm_status[\\\"7c9c99fa3faf48dcbe3446e8044b8edb\\\"] = comm_status\\n}\\n\\n// Add current event to queue and process queue if not blocked\\nevent_name = cb_obj.event_name\\ndata['comm_id'] = \\\"7c9c99fa3faf48dcbe3446e8044b8edb\\\";\\ntimeout = comm_status.time + 20000;\\nif ((comm_status.blocked && (Date.now() < timeout))) {\\n  comm_status.event_buffer.unshift([event_name, data]);\\n} else {\\n  comm_status.event_buffer.unshift([event_name, data]);\\n  setTimeout(function() { process_events(comm_status); }, 50);\\n  comm_status.blocked = true;\\n  comm_status.time = Date.now()+50;\\n}\\n\"},\"id\":\"2278\",\"type\":\"CustomJS\"},{\"attributes\":{\"code\":\"\\nif (!window.PyViz) {\\n  return;\\n}\\nvar receiver = window.PyViz.receivers['2258'];\\nvar events = receiver ? receiver._partial.content.events : [];\\nfor (var event of events) {\\n  if ((event.kind === 'ModelChanged') && (event.attr === 'button_type') &&\\n      (cb_obj.id === event.model.id) &&\\n      (JSON.stringify(cb_obj['button_type']) === JSON.stringify(event.new))) {\\n    events.pop(events.indexOf(event))\\n    return;\\n  }\\n}\\n\\ndata = {button_type: cb_obj['button_type'], 'id': cb_obj.id};\\ncb_obj.event_name = 'button_type';\\n\\nfunction unique_events(events) {\\n  // Processes the event queue ignoring duplicate events\\n  // of the same type\\n  var unique = [];\\n  var unique_events = [];\\n  for (var i=0; i<events.length; i++) {\\n    var _tmpevent = events[i];\\n    event = _tmpevent[0];\\n    data = _tmpevent[1];\\n    if (unique_events.indexOf(event)===-1) {\\n      unique.unshift(data);\\n      unique_events.push(event);\\n      }\\n  }\\n  return unique;\\n}\\n\\nfunction process_events(comm_status) {\\n  // Iterates over event queue and sends events via Comm\\n  var events = unique_events(comm_status.event_buffer);\\n  for (var i=0; i<events.length; i++) {\\n    var data = events[i];\\n    var comm = window.PyViz.comms[data[\\\"comm_id\\\"]];\\n    comm.send(data);\\n  }\\n  comm_status.event_buffer = [];\\n}\\n\\nfunction on_msg(msg) {\\n  // Receives acknowledgement from Python, processing event\\n  // and unblocking Comm if event queue empty\\n  var metadata = msg.metadata;\\n  var comm_id = metadata.comm_id\\n  var comm_status = window.PyViz.comm_status[comm_id];\\n  if (comm_status.event_buffer.length) {\\n    process_events(comm_status);\\n    comm_status.blocked = true;\\n    comm_status.time = Date.now()+50;\\n  } else {\\n    comm_status.blocked = false;\\n  }\\n  comm_status.event_buffer = [];\\n  if ((metadata.msg_type == \\\"Ready\\\") && metadata.content) {\\n    console.log(\\\"Python callback returned following output:\\\", metadata.content);\\n  } else if (metadata.msg_type == \\\"Error\\\") {\\n    console.log(\\\"Python failed with the following traceback:\\\", metadata.traceback)\\n  }\\n}\\n\\n// Initialize Comm\\nif ((window.PyViz == undefined) || (window.PyViz.comm_manager == undefined)) { return }\\ncomm = window.PyViz.comm_manager.get_client_comm(\\\"2258\\\", \\\"0faa7d498eea4fb494633f0e037e6758\\\", on_msg);\\nif (!comm) {\\n  return\\n}\\n\\n// Initialize event queue and timeouts for Comm\\nvar comm_status = window.PyViz.comm_status[\\\"0faa7d498eea4fb494633f0e037e6758\\\"];\\nif (comm_status === undefined) {\\n  comm_status = {event_buffer: [], blocked: false, time: Date.now()}\\n  window.PyViz.comm_status[\\\"0faa7d498eea4fb494633f0e037e6758\\\"] = comm_status\\n}\\n\\n// Add current event to queue and process queue if not blocked\\nevent_name = cb_obj.event_name\\ndata['comm_id'] = \\\"0faa7d498eea4fb494633f0e037e6758\\\";\\ntimeout = comm_status.time + 20000;\\nif ((comm_status.blocked && (Date.now() < timeout))) {\\n  comm_status.event_buffer.unshift([event_name, data]);\\n} else {\\n  comm_status.event_buffer.unshift([event_name, data]);\\n  setTimeout(function() { process_events(comm_status); }, 50);\\n  comm_status.blocked = true;\\n  comm_status.time = Date.now()+50;\\n}\\n\"},\"id\":\"2271\",\"type\":\"CustomJS\"},{\"attributes\":{\"code\":\"\\nif (!window.PyViz) {\\n  return;\\n}\\nvar receiver = window.PyViz.receivers['2258'];\\nvar events = receiver ? receiver._partial.content.events : [];\\nfor (var event of events) {\\n  if ((event.kind === 'ModelChanged') && (event.attr === 'disabled') &&\\n      (cb_obj.id === event.model.id) &&\\n      (JSON.stringify(cb_obj['disabled']) === JSON.stringify(event.new))) {\\n    events.pop(events.indexOf(event))\\n    return;\\n  }\\n}\\n\\ndata = {disabled: cb_obj['disabled'], 'id': cb_obj.id};\\ncb_obj.event_name = 'disabled';\\n\\nfunction unique_events(events) {\\n  // Processes the event queue ignoring duplicate events\\n  // of the same type\\n  var unique = [];\\n  var unique_events = [];\\n  for (var i=0; i<events.length; i++) {\\n    var _tmpevent = events[i];\\n    event = _tmpevent[0];\\n    data = _tmpevent[1];\\n    if (unique_events.indexOf(event)===-1) {\\n      unique.unshift(data);\\n      unique_events.push(event);\\n      }\\n  }\\n  return unique;\\n}\\n\\nfunction process_events(comm_status) {\\n  // Iterates over event queue and sends events via Comm\\n  var events = unique_events(comm_status.event_buffer);\\n  for (var i=0; i<events.length; i++) {\\n    var data = events[i];\\n    var comm = window.PyViz.comms[data[\\\"comm_id\\\"]];\\n    comm.send(data);\\n  }\\n  comm_status.event_buffer = [];\\n}\\n\\nfunction on_msg(msg) {\\n  // Receives acknowledgement from Python, processing event\\n  // and unblocking Comm if event queue empty\\n  var metadata = msg.metadata;\\n  var comm_id = metadata.comm_id\\n  var comm_status = window.PyViz.comm_status[comm_id];\\n  if (comm_status.event_buffer.length) {\\n    process_events(comm_status);\\n    comm_status.blocked = true;\\n    comm_status.time = Date.now()+50;\\n  } else {\\n    comm_status.blocked = false;\\n  }\\n  comm_status.event_buffer = [];\\n  if ((metadata.msg_type == \\\"Ready\\\") && metadata.content) {\\n    console.log(\\\"Python callback returned following output:\\\", metadata.content);\\n  } else if (metadata.msg_type == \\\"Error\\\") {\\n    console.log(\\\"Python failed with the following traceback:\\\", metadata.traceback)\\n  }\\n}\\n\\n// Initialize Comm\\nif ((window.PyViz == undefined) || (window.PyViz.comm_manager == undefined)) { return }\\ncomm = window.PyViz.comm_manager.get_client_comm(\\\"2258\\\", \\\"d255b5b6cc1b4aadb1a3b86252e0c1b0\\\", on_msg);\\nif (!comm) {\\n  return\\n}\\n\\n// Initialize event queue and timeouts for Comm\\nvar comm_status = window.PyViz.comm_status[\\\"d255b5b6cc1b4aadb1a3b86252e0c1b0\\\"];\\nif (comm_status === undefined) {\\n  comm_status = {event_buffer: [], blocked: false, time: Date.now()}\\n  window.PyViz.comm_status[\\\"d255b5b6cc1b4aadb1a3b86252e0c1b0\\\"] = comm_status\\n}\\n\\n// Add current event to queue and process queue if not blocked\\nevent_name = cb_obj.event_name\\ndata['comm_id'] = \\\"d255b5b6cc1b4aadb1a3b86252e0c1b0\\\";\\ntimeout = comm_status.time + 20000;\\nif ((comm_status.blocked && (Date.now() < timeout))) {\\n  comm_status.event_buffer.unshift([event_name, data]);\\n} else {\\n  comm_status.event_buffer.unshift([event_name, data]);\\n  setTimeout(function() { process_events(comm_status); }, 50);\\n  comm_status.blocked = true;\\n  comm_status.time = Date.now()+50;\\n}\\n\"},\"id\":\"2266\",\"type\":\"CustomJS\"},{\"attributes\":{\"button_type\":\"primary\",\"callback\":null,\"icon\":null,\"js_property_callbacks\":{\"change:button_type\":[{\"id\":\"2281\",\"type\":\"CustomJS\"}],\"change:clicks\":[{\"id\":\"2282\",\"type\":\"CustomJS\"}],\"change:disabled\":[{\"id\":\"2283\",\"type\":\"CustomJS\"}],\"change:label\":[{\"id\":\"2284\",\"type\":\"CustomJS\"}]},\"label\":\"Generate\",\"margin\":[5,10,5,10]},\"id\":\"2280\",\"type\":\"Button\"},{\"attributes\":{\"callback\":null,\"js_property_callbacks\":{\"change:disabled\":[{\"id\":\"2266\",\"type\":\"CustomJS\"}],\"change:placeholder\":[{\"id\":\"2268\",\"type\":\"CustomJS\"}],\"change:title\":[{\"id\":\"2267\",\"type\":\"CustomJS\"}],\"change:value\":[{\"id\":\"2269\",\"type\":\"CustomJS\"}]},\"margin\":[5,10,5,10],\"min_width\":400,\"width\":400},\"id\":\"2265\",\"type\":\"TextInput\"},{\"attributes\":{\"code\":\"\\nif (!window.PyViz) {\\n  return;\\n}\\nvar receiver = window.PyViz.receivers['2258'];\\nvar events = receiver ? receiver._partial.content.events : [];\\nfor (var event of events) {\\n  if ((event.kind === 'ModelChanged') && (event.attr === 'button_type') &&\\n      (cb_obj.id === event.model.id) &&\\n      (JSON.stringify(cb_obj['button_type']) === JSON.stringify(event.new))) {\\n    events.pop(events.indexOf(event))\\n    return;\\n  }\\n}\\n\\ndata = {button_type: cb_obj['button_type'], 'id': cb_obj.id};\\ncb_obj.event_name = 'button_type';\\n\\nfunction unique_events(events) {\\n  // Processes the event queue ignoring duplicate events\\n  // of the same type\\n  var unique = [];\\n  var unique_events = [];\\n  for (var i=0; i<events.length; i++) {\\n    var _tmpevent = events[i];\\n    event = _tmpevent[0];\\n    data = _tmpevent[1];\\n    if (unique_events.indexOf(event)===-1) {\\n      unique.unshift(data);\\n      unique_events.push(event);\\n      }\\n  }\\n  return unique;\\n}\\n\\nfunction process_events(comm_status) {\\n  // Iterates over event queue and sends events via Comm\\n  var events = unique_events(comm_status.event_buffer);\\n  for (var i=0; i<events.length; i++) {\\n    var data = events[i];\\n    var comm = window.PyViz.comms[data[\\\"comm_id\\\"]];\\n    comm.send(data);\\n  }\\n  comm_status.event_buffer = [];\\n}\\n\\nfunction on_msg(msg) {\\n  // Receives acknowledgement from Python, processing event\\n  // and unblocking Comm if event queue empty\\n  var metadata = msg.metadata;\\n  var comm_id = metadata.comm_id\\n  var comm_status = window.PyViz.comm_status[comm_id];\\n  if (comm_status.event_buffer.length) {\\n    process_events(comm_status);\\n    comm_status.blocked = true;\\n    comm_status.time = Date.now()+50;\\n  } else {\\n    comm_status.blocked = false;\\n  }\\n  comm_status.event_buffer = [];\\n  if ((metadata.msg_type == \\\"Ready\\\") && metadata.content) {\\n    console.log(\\\"Python callback returned following output:\\\", metadata.content);\\n  } else if (metadata.msg_type == \\\"Error\\\") {\\n    console.log(\\\"Python failed with the following traceback:\\\", metadata.traceback)\\n  }\\n}\\n\\n// Initialize Comm\\nif ((window.PyViz == undefined) || (window.PyViz.comm_manager == undefined)) { return }\\ncomm = window.PyViz.comm_manager.get_client_comm(\\\"2258\\\", \\\"087c1aed08a5419cb349085ae8e10a60\\\", on_msg);\\nif (!comm) {\\n  return\\n}\\n\\n// Initialize event queue and timeouts for Comm\\nvar comm_status = window.PyViz.comm_status[\\\"087c1aed08a5419cb349085ae8e10a60\\\"];\\nif (comm_status === undefined) {\\n  comm_status = {event_buffer: [], blocked: false, time: Date.now()}\\n  window.PyViz.comm_status[\\\"087c1aed08a5419cb349085ae8e10a60\\\"] = comm_status\\n}\\n\\n// Add current event to queue and process queue if not blocked\\nevent_name = cb_obj.event_name\\ndata['comm_id'] = \\\"087c1aed08a5419cb349085ae8e10a60\\\";\\ntimeout = comm_status.time + 20000;\\nif ((comm_status.blocked && (Date.now() < timeout))) {\\n  comm_status.event_buffer.unshift([event_name, data]);\\n} else {\\n  comm_status.event_buffer.unshift([event_name, data]);\\n  setTimeout(function() { process_events(comm_status); }, 50);\\n  comm_status.blocked = true;\\n  comm_status.time = Date.now()+50;\\n}\\n\"},\"id\":\"2281\",\"type\":\"CustomJS\"},{\"attributes\":{\"code\":\"\\nif (!window.PyViz) {\\n  return;\\n}\\nvar receiver = window.PyViz.receivers['2258'];\\nvar events = receiver ? receiver._partial.content.events : [];\\nfor (var event of events) {\\n  if ((event.kind === 'ModelChanged') && (event.attr === 'disabled') &&\\n      (cb_obj.id === event.model.id) &&\\n      (JSON.stringify(cb_obj['disabled']) === JSON.stringify(event.new))) {\\n    events.pop(events.indexOf(event))\\n    return;\\n  }\\n}\\n\\ndata = {disabled: cb_obj['disabled'], 'id': cb_obj.id};\\ncb_obj.event_name = 'disabled';\\n\\nfunction unique_events(events) {\\n  // Processes the event queue ignoring duplicate events\\n  // of the same type\\n  var unique = [];\\n  var unique_events = [];\\n  for (var i=0; i<events.length; i++) {\\n    var _tmpevent = events[i];\\n    event = _tmpevent[0];\\n    data = _tmpevent[1];\\n    if (unique_events.indexOf(event)===-1) {\\n      unique.unshift(data);\\n      unique_events.push(event);\\n      }\\n  }\\n  return unique;\\n}\\n\\nfunction process_events(comm_status) {\\n  // Iterates over event queue and sends events via Comm\\n  var events = unique_events(comm_status.event_buffer);\\n  for (var i=0; i<events.length; i++) {\\n    var data = events[i];\\n    var comm = window.PyViz.comms[data[\\\"comm_id\\\"]];\\n    comm.send(data);\\n  }\\n  comm_status.event_buffer = [];\\n}\\n\\nfunction on_msg(msg) {\\n  // Receives acknowledgement from Python, processing event\\n  // and unblocking Comm if event queue empty\\n  var metadata = msg.metadata;\\n  var comm_id = metadata.comm_id\\n  var comm_status = window.PyViz.comm_status[comm_id];\\n  if (comm_status.event_buffer.length) {\\n    process_events(comm_status);\\n    comm_status.blocked = true;\\n    comm_status.time = Date.now()+50;\\n  } else {\\n    comm_status.blocked = false;\\n  }\\n  comm_status.event_buffer = [];\\n  if ((metadata.msg_type == \\\"Ready\\\") && metadata.content) {\\n    console.log(\\\"Python callback returned following output:\\\", metadata.content);\\n  } else if (metadata.msg_type == \\\"Error\\\") {\\n    console.log(\\\"Python failed with the following traceback:\\\", metadata.traceback)\\n  }\\n}\\n\\n// Initialize Comm\\nif ((window.PyViz == undefined) || (window.PyViz.comm_manager == undefined)) { return }\\ncomm = window.PyViz.comm_manager.get_client_comm(\\\"2258\\\", \\\"7c9c99fa3faf48dcbe3446e8044b8edb\\\", on_msg);\\nif (!comm) {\\n  return\\n}\\n\\n// Initialize event queue and timeouts for Comm\\nvar comm_status = window.PyViz.comm_status[\\\"7c9c99fa3faf48dcbe3446e8044b8edb\\\"];\\nif (comm_status === undefined) {\\n  comm_status = {event_buffer: [], blocked: false, time: Date.now()}\\n  window.PyViz.comm_status[\\\"7c9c99fa3faf48dcbe3446e8044b8edb\\\"] = comm_status\\n}\\n\\n// Add current event to queue and process queue if not blocked\\nevent_name = cb_obj.event_name\\ndata['comm_id'] = \\\"7c9c99fa3faf48dcbe3446e8044b8edb\\\";\\ntimeout = comm_status.time + 20000;\\nif ((comm_status.blocked && (Date.now() < timeout))) {\\n  comm_status.event_buffer.unshift([event_name, data]);\\n} else {\\n  comm_status.event_buffer.unshift([event_name, data]);\\n  setTimeout(function() { process_events(comm_status); }, 50);\\n  comm_status.blocked = true;\\n  comm_status.time = Date.now()+50;\\n}\\n\"},\"id\":\"2277\",\"type\":\"CustomJS\"},{\"attributes\":{\"children\":[{\"id\":\"2260\",\"type\":\"Spacer\"},{\"id\":\"2261\",\"type\":\"Div\"},{\"id\":\"2262\",\"type\":\"Spacer\"}],\"margin\":[0,0,0,0],\"name\":\"Row00041\"},\"id\":\"2259\",\"type\":\"Row\"},{\"attributes\":{\"margin\":[5,5,5,5],\"name\":\"Markdown00037\",\"text\":\"<h1><strong>Text Generator</strong></h1>\"},\"id\":\"2261\",\"type\":\"Div\"},{\"attributes\":{\"code\":\"\\nif (!window.PyViz) {\\n  return;\\n}\\nvar receiver = window.PyViz.receivers['2258'];\\nvar events = receiver ? receiver._partial.content.events : [];\\nfor (var event of events) {\\n  if ((event.kind === 'ModelChanged') && (event.attr === 'button_type') &&\\n      (cb_obj.id === event.model.id) &&\\n      (JSON.stringify(cb_obj['button_type']) === JSON.stringify(event.new))) {\\n    events.pop(events.indexOf(event))\\n    return;\\n  }\\n}\\n\\ndata = {button_type: cb_obj['button_type'], 'id': cb_obj.id};\\ncb_obj.event_name = 'button_type';\\n\\nfunction unique_events(events) {\\n  // Processes the event queue ignoring duplicate events\\n  // of the same type\\n  var unique = [];\\n  var unique_events = [];\\n  for (var i=0; i<events.length; i++) {\\n    var _tmpevent = events[i];\\n    event = _tmpevent[0];\\n    data = _tmpevent[1];\\n    if (unique_events.indexOf(event)===-1) {\\n      unique.unshift(data);\\n      unique_events.push(event);\\n      }\\n  }\\n  return unique;\\n}\\n\\nfunction process_events(comm_status) {\\n  // Iterates over event queue and sends events via Comm\\n  var events = unique_events(comm_status.event_buffer);\\n  for (var i=0; i<events.length; i++) {\\n    var data = events[i];\\n    var comm = window.PyViz.comms[data[\\\"comm_id\\\"]];\\n    comm.send(data);\\n  }\\n  comm_status.event_buffer = [];\\n}\\n\\nfunction on_msg(msg) {\\n  // Receives acknowledgement from Python, processing event\\n  // and unblocking Comm if event queue empty\\n  var metadata = msg.metadata;\\n  var comm_id = metadata.comm_id\\n  var comm_status = window.PyViz.comm_status[comm_id];\\n  if (comm_status.event_buffer.length) {\\n    process_events(comm_status);\\n    comm_status.blocked = true;\\n    comm_status.time = Date.now()+50;\\n  } else {\\n    comm_status.blocked = false;\\n  }\\n  comm_status.event_buffer = [];\\n  if ((metadata.msg_type == \\\"Ready\\\") && metadata.content) {\\n    console.log(\\\"Python callback returned following output:\\\", metadata.content);\\n  } else if (metadata.msg_type == \\\"Error\\\") {\\n    console.log(\\\"Python failed with the following traceback:\\\", metadata.traceback)\\n  }\\n}\\n\\n// Initialize Comm\\nif ((window.PyViz == undefined) || (window.PyViz.comm_manager == undefined)) { return }\\ncomm = window.PyViz.comm_manager.get_client_comm(\\\"2258\\\", \\\"7c9c99fa3faf48dcbe3446e8044b8edb\\\", on_msg);\\nif (!comm) {\\n  return\\n}\\n\\n// Initialize event queue and timeouts for Comm\\nvar comm_status = window.PyViz.comm_status[\\\"7c9c99fa3faf48dcbe3446e8044b8edb\\\"];\\nif (comm_status === undefined) {\\n  comm_status = {event_buffer: [], blocked: false, time: Date.now()}\\n  window.PyViz.comm_status[\\\"7c9c99fa3faf48dcbe3446e8044b8edb\\\"] = comm_status\\n}\\n\\n// Add current event to queue and process queue if not blocked\\nevent_name = cb_obj.event_name\\ndata['comm_id'] = \\\"7c9c99fa3faf48dcbe3446e8044b8edb\\\";\\ntimeout = comm_status.time + 20000;\\nif ((comm_status.blocked && (Date.now() < timeout))) {\\n  comm_status.event_buffer.unshift([event_name, data]);\\n} else {\\n  comm_status.event_buffer.unshift([event_name, data]);\\n  setTimeout(function() { process_events(comm_status); }, 50);\\n  comm_status.blocked = true;\\n  comm_status.time = Date.now()+50;\\n}\\n\"},\"id\":\"2276\",\"type\":\"CustomJS\"},{\"attributes\":{\"code\":\"\\nif (!window.PyViz) {\\n  return;\\n}\\nvar receiver = window.PyViz.receivers['2258'];\\nvar events = receiver ? receiver._partial.content.events : [];\\nfor (var event of events) {\\n  if ((event.kind === 'ModelChanged') && (event.attr === 'value') &&\\n      (cb_obj.id === event.model.id) &&\\n      (JSON.stringify(cb_obj['value']) === JSON.stringify(event.new))) {\\n    events.pop(events.indexOf(event))\\n    return;\\n  }\\n}\\n\\ndata = {value: cb_obj['value'], 'id': cb_obj.id};\\ncb_obj.event_name = 'value';\\n\\nfunction unique_events(events) {\\n  // Processes the event queue ignoring duplicate events\\n  // of the same type\\n  var unique = [];\\n  var unique_events = [];\\n  for (var i=0; i<events.length; i++) {\\n    var _tmpevent = events[i];\\n    event = _tmpevent[0];\\n    data = _tmpevent[1];\\n    if (unique_events.indexOf(event)===-1) {\\n      unique.unshift(data);\\n      unique_events.push(event);\\n      }\\n  }\\n  return unique;\\n}\\n\\nfunction process_events(comm_status) {\\n  // Iterates over event queue and sends events via Comm\\n  var events = unique_events(comm_status.event_buffer);\\n  for (var i=0; i<events.length; i++) {\\n    var data = events[i];\\n    var comm = window.PyViz.comms[data[\\\"comm_id\\\"]];\\n    comm.send(data);\\n  }\\n  comm_status.event_buffer = [];\\n}\\n\\nfunction on_msg(msg) {\\n  // Receives acknowledgement from Python, processing event\\n  // and unblocking Comm if event queue empty\\n  var metadata = msg.metadata;\\n  var comm_id = metadata.comm_id\\n  var comm_status = window.PyViz.comm_status[comm_id];\\n  if (comm_status.event_buffer.length) {\\n    process_events(comm_status);\\n    comm_status.blocked = true;\\n    comm_status.time = Date.now()+50;\\n  } else {\\n    comm_status.blocked = false;\\n  }\\n  comm_status.event_buffer = [];\\n  if ((metadata.msg_type == \\\"Ready\\\") && metadata.content) {\\n    console.log(\\\"Python callback returned following output:\\\", metadata.content);\\n  } else if (metadata.msg_type == \\\"Error\\\") {\\n    console.log(\\\"Python failed with the following traceback:\\\", metadata.traceback)\\n  }\\n}\\n\\n// Initialize Comm\\nif ((window.PyViz == undefined) || (window.PyViz.comm_manager == undefined)) { return }\\ncomm = window.PyViz.comm_manager.get_client_comm(\\\"2258\\\", \\\"d255b5b6cc1b4aadb1a3b86252e0c1b0\\\", on_msg);\\nif (!comm) {\\n  return\\n}\\n\\n// Initialize event queue and timeouts for Comm\\nvar comm_status = window.PyViz.comm_status[\\\"d255b5b6cc1b4aadb1a3b86252e0c1b0\\\"];\\nif (comm_status === undefined) {\\n  comm_status = {event_buffer: [], blocked: false, time: Date.now()}\\n  window.PyViz.comm_status[\\\"d255b5b6cc1b4aadb1a3b86252e0c1b0\\\"] = comm_status\\n}\\n\\n// Add current event to queue and process queue if not blocked\\nevent_name = cb_obj.event_name\\ndata['comm_id'] = \\\"d255b5b6cc1b4aadb1a3b86252e0c1b0\\\";\\ntimeout = comm_status.time + 20000;\\nif ((comm_status.blocked && (Date.now() < timeout))) {\\n  comm_status.event_buffer.unshift([event_name, data]);\\n} else {\\n  comm_status.event_buffer.unshift([event_name, data]);\\n  setTimeout(function() { process_events(comm_status); }, 50);\\n  comm_status.blocked = true;\\n  comm_status.time = Date.now()+50;\\n}\\n\"},\"id\":\"2269\",\"type\":\"CustomJS\"},{\"attributes\":{\"code\":\"\\nif (!window.PyViz) {\\n  return;\\n}\\nvar receiver = window.PyViz.receivers['2258'];\\nvar events = receiver ? receiver._partial.content.events : [];\\nfor (var event of events) {\\n  if ((event.kind === 'ModelChanged') && (event.attr === 'title') &&\\n      (cb_obj.id === event.model.id) &&\\n      (JSON.stringify(cb_obj['title']) === JSON.stringify(event.new))) {\\n    events.pop(events.indexOf(event))\\n    return;\\n  }\\n}\\n\\ndata = {title: cb_obj['title'], 'id': cb_obj.id};\\ncb_obj.event_name = 'title';\\n\\nfunction unique_events(events) {\\n  // Processes the event queue ignoring duplicate events\\n  // of the same type\\n  var unique = [];\\n  var unique_events = [];\\n  for (var i=0; i<events.length; i++) {\\n    var _tmpevent = events[i];\\n    event = _tmpevent[0];\\n    data = _tmpevent[1];\\n    if (unique_events.indexOf(event)===-1) {\\n      unique.unshift(data);\\n      unique_events.push(event);\\n      }\\n  }\\n  return unique;\\n}\\n\\nfunction process_events(comm_status) {\\n  // Iterates over event queue and sends events via Comm\\n  var events = unique_events(comm_status.event_buffer);\\n  for (var i=0; i<events.length; i++) {\\n    var data = events[i];\\n    var comm = window.PyViz.comms[data[\\\"comm_id\\\"]];\\n    comm.send(data);\\n  }\\n  comm_status.event_buffer = [];\\n}\\n\\nfunction on_msg(msg) {\\n  // Receives acknowledgement from Python, processing event\\n  // and unblocking Comm if event queue empty\\n  var metadata = msg.metadata;\\n  var comm_id = metadata.comm_id\\n  var comm_status = window.PyViz.comm_status[comm_id];\\n  if (comm_status.event_buffer.length) {\\n    process_events(comm_status);\\n    comm_status.blocked = true;\\n    comm_status.time = Date.now()+50;\\n  } else {\\n    comm_status.blocked = false;\\n  }\\n  comm_status.event_buffer = [];\\n  if ((metadata.msg_type == \\\"Ready\\\") && metadata.content) {\\n    console.log(\\\"Python callback returned following output:\\\", metadata.content);\\n  } else if (metadata.msg_type == \\\"Error\\\") {\\n    console.log(\\\"Python failed with the following traceback:\\\", metadata.traceback)\\n  }\\n}\\n\\n// Initialize Comm\\nif ((window.PyViz == undefined) || (window.PyViz.comm_manager == undefined)) { return }\\ncomm = window.PyViz.comm_manager.get_client_comm(\\\"2258\\\", \\\"d255b5b6cc1b4aadb1a3b86252e0c1b0\\\", on_msg);\\nif (!comm) {\\n  return\\n}\\n\\n// Initialize event queue and timeouts for Comm\\nvar comm_status = window.PyViz.comm_status[\\\"d255b5b6cc1b4aadb1a3b86252e0c1b0\\\"];\\nif (comm_status === undefined) {\\n  comm_status = {event_buffer: [], blocked: false, time: Date.now()}\\n  window.PyViz.comm_status[\\\"d255b5b6cc1b4aadb1a3b86252e0c1b0\\\"] = comm_status\\n}\\n\\n// Add current event to queue and process queue if not blocked\\nevent_name = cb_obj.event_name\\ndata['comm_id'] = \\\"d255b5b6cc1b4aadb1a3b86252e0c1b0\\\";\\ntimeout = comm_status.time + 20000;\\nif ((comm_status.blocked && (Date.now() < timeout))) {\\n  comm_status.event_buffer.unshift([event_name, data]);\\n} else {\\n  comm_status.event_buffer.unshift([event_name, data]);\\n  setTimeout(function() { process_events(comm_status); }, 50);\\n  comm_status.blocked = true;\\n  comm_status.time = Date.now()+50;\\n}\\n\"},\"id\":\"2267\",\"type\":\"CustomJS\"},{\"attributes\":{\"code\":\"\\nif (!window.PyViz) {\\n  return;\\n}\\nvar receiver = window.PyViz.receivers['2258'];\\nvar events = receiver ? receiver._partial.content.events : [];\\nfor (var event of events) {\\n  if ((event.kind === 'ModelChanged') && (event.attr === 'disabled') &&\\n      (cb_obj.id === event.model.id) &&\\n      (JSON.stringify(cb_obj['disabled']) === JSON.stringify(event.new))) {\\n    events.pop(events.indexOf(event))\\n    return;\\n  }\\n}\\n\\ndata = {disabled: cb_obj['disabled'], 'id': cb_obj.id};\\ncb_obj.event_name = 'disabled';\\n\\nfunction unique_events(events) {\\n  // Processes the event queue ignoring duplicate events\\n  // of the same type\\n  var unique = [];\\n  var unique_events = [];\\n  for (var i=0; i<events.length; i++) {\\n    var _tmpevent = events[i];\\n    event = _tmpevent[0];\\n    data = _tmpevent[1];\\n    if (unique_events.indexOf(event)===-1) {\\n      unique.unshift(data);\\n      unique_events.push(event);\\n      }\\n  }\\n  return unique;\\n}\\n\\nfunction process_events(comm_status) {\\n  // Iterates over event queue and sends events via Comm\\n  var events = unique_events(comm_status.event_buffer);\\n  for (var i=0; i<events.length; i++) {\\n    var data = events[i];\\n    var comm = window.PyViz.comms[data[\\\"comm_id\\\"]];\\n    comm.send(data);\\n  }\\n  comm_status.event_buffer = [];\\n}\\n\\nfunction on_msg(msg) {\\n  // Receives acknowledgement from Python, processing event\\n  // and unblocking Comm if event queue empty\\n  var metadata = msg.metadata;\\n  var comm_id = metadata.comm_id\\n  var comm_status = window.PyViz.comm_status[comm_id];\\n  if (comm_status.event_buffer.length) {\\n    process_events(comm_status);\\n    comm_status.blocked = true;\\n    comm_status.time = Date.now()+50;\\n  } else {\\n    comm_status.blocked = false;\\n  }\\n  comm_status.event_buffer = [];\\n  if ((metadata.msg_type == \\\"Ready\\\") && metadata.content) {\\n    console.log(\\\"Python callback returned following output:\\\", metadata.content);\\n  } else if (metadata.msg_type == \\\"Error\\\") {\\n    console.log(\\\"Python failed with the following traceback:\\\", metadata.traceback)\\n  }\\n}\\n\\n// Initialize Comm\\nif ((window.PyViz == undefined) || (window.PyViz.comm_manager == undefined)) { return }\\ncomm = window.PyViz.comm_manager.get_client_comm(\\\"2258\\\", \\\"087c1aed08a5419cb349085ae8e10a60\\\", on_msg);\\nif (!comm) {\\n  return\\n}\\n\\n// Initialize event queue and timeouts for Comm\\nvar comm_status = window.PyViz.comm_status[\\\"087c1aed08a5419cb349085ae8e10a60\\\"];\\nif (comm_status === undefined) {\\n  comm_status = {event_buffer: [], blocked: false, time: Date.now()}\\n  window.PyViz.comm_status[\\\"087c1aed08a5419cb349085ae8e10a60\\\"] = comm_status\\n}\\n\\n// Add current event to queue and process queue if not blocked\\nevent_name = cb_obj.event_name\\ndata['comm_id'] = \\\"087c1aed08a5419cb349085ae8e10a60\\\";\\ntimeout = comm_status.time + 20000;\\nif ((comm_status.blocked && (Date.now() < timeout))) {\\n  comm_status.event_buffer.unshift([event_name, data]);\\n} else {\\n  comm_status.event_buffer.unshift([event_name, data]);\\n  setTimeout(function() { process_events(comm_status); }, 50);\\n  comm_status.blocked = true;\\n  comm_status.time = Date.now()+50;\\n}\\n\"},\"id\":\"2283\",\"type\":\"CustomJS\"},{\"attributes\":{\"active\":0,\"callback\":null,\"disabled\":true,\"height\":30,\"js_property_callbacks\":{\"change:active\":[{\"id\":\"2278\",\"type\":\"CustomJS\"}],\"change:button_type\":[{\"id\":\"2276\",\"type\":\"CustomJS\"}],\"change:disabled\":[{\"id\":\"2277\",\"type\":\"CustomJS\"}],\"change:labels\":[{\"id\":\"2279\",\"type\":\"CustomJS\"}]},\"labels\":[\"\"],\"margin\":[5,10,5,10],\"sizing_mode\":\"fixed\",\"width\":500},\"id\":\"2275\",\"type\":\"RadioButtonGroup\"},{\"attributes\":{\"margin\":[5,5,5,5],\"name\":\"Markdown00030\"},\"id\":\"2285\",\"type\":\"Div\"},{\"attributes\":{\"code\":\"\\nif (!window.PyViz) {\\n  return;\\n}\\nvar receiver = window.PyViz.receivers['2258'];\\nvar events = receiver ? receiver._partial.content.events : [];\\nfor (var event of events) {\\n  if ((event.kind === 'ModelChanged') && (event.attr === 'labels') &&\\n      (cb_obj.id === event.model.id) &&\\n      (JSON.stringify(cb_obj['labels']) === JSON.stringify(event.new))) {\\n    events.pop(events.indexOf(event))\\n    return;\\n  }\\n}\\n\\ndata = {labels: cb_obj['labels'], 'id': cb_obj.id};\\ncb_obj.event_name = 'labels';\\n\\nfunction unique_events(events) {\\n  // Processes the event queue ignoring duplicate events\\n  // of the same type\\n  var unique = [];\\n  var unique_events = [];\\n  for (var i=0; i<events.length; i++) {\\n    var _tmpevent = events[i];\\n    event = _tmpevent[0];\\n    data = _tmpevent[1];\\n    if (unique_events.indexOf(event)===-1) {\\n      unique.unshift(data);\\n      unique_events.push(event);\\n      }\\n  }\\n  return unique;\\n}\\n\\nfunction process_events(comm_status) {\\n  // Iterates over event queue and sends events via Comm\\n  var events = unique_events(comm_status.event_buffer);\\n  for (var i=0; i<events.length; i++) {\\n    var data = events[i];\\n    var comm = window.PyViz.comms[data[\\\"comm_id\\\"]];\\n    comm.send(data);\\n  }\\n  comm_status.event_buffer = [];\\n}\\n\\nfunction on_msg(msg) {\\n  // Receives acknowledgement from Python, processing event\\n  // and unblocking Comm if event queue empty\\n  var metadata = msg.metadata;\\n  var comm_id = metadata.comm_id\\n  var comm_status = window.PyViz.comm_status[comm_id];\\n  if (comm_status.event_buffer.length) {\\n    process_events(comm_status);\\n    comm_status.blocked = true;\\n    comm_status.time = Date.now()+50;\\n  } else {\\n    comm_status.blocked = false;\\n  }\\n  comm_status.event_buffer = [];\\n  if ((metadata.msg_type == \\\"Ready\\\") && metadata.content) {\\n    console.log(\\\"Python callback returned following output:\\\", metadata.content);\\n  } else if (metadata.msg_type == \\\"Error\\\") {\\n    console.log(\\\"Python failed with the following traceback:\\\", metadata.traceback)\\n  }\\n}\\n\\n// Initialize Comm\\nif ((window.PyViz == undefined) || (window.PyViz.comm_manager == undefined)) { return }\\ncomm = window.PyViz.comm_manager.get_client_comm(\\\"2258\\\", \\\"7c9c99fa3faf48dcbe3446e8044b8edb\\\", on_msg);\\nif (!comm) {\\n  return\\n}\\n\\n// Initialize event queue and timeouts for Comm\\nvar comm_status = window.PyViz.comm_status[\\\"7c9c99fa3faf48dcbe3446e8044b8edb\\\"];\\nif (comm_status === undefined) {\\n  comm_status = {event_buffer: [], blocked: false, time: Date.now()}\\n  window.PyViz.comm_status[\\\"7c9c99fa3faf48dcbe3446e8044b8edb\\\"] = comm_status\\n}\\n\\n// Add current event to queue and process queue if not blocked\\nevent_name = cb_obj.event_name\\ndata['comm_id'] = \\\"7c9c99fa3faf48dcbe3446e8044b8edb\\\";\\ntimeout = comm_status.time + 20000;\\nif ((comm_status.blocked && (Date.now() < timeout))) {\\n  comm_status.event_buffer.unshift([event_name, data]);\\n} else {\\n  comm_status.event_buffer.unshift([event_name, data]);\\n  setTimeout(function() { process_events(comm_status); }, 50);\\n  comm_status.blocked = true;\\n  comm_status.time = Date.now()+50;\\n}\\n\"},\"id\":\"2279\",\"type\":\"CustomJS\"},{\"attributes\":{\"margin\":[5,5,5,5],\"name\":\"HSpacer00036\",\"sizing_mode\":\"stretch_width\"},\"id\":\"2262\",\"type\":\"Spacer\"},{\"attributes\":{\"active\":0,\"callback\":null,\"height\":30,\"js_property_callbacks\":{\"change:active\":[{\"id\":\"2273\",\"type\":\"CustomJS\"}],\"change:button_type\":[{\"id\":\"2271\",\"type\":\"CustomJS\"}],\"change:disabled\":[{\"id\":\"2272\",\"type\":\"CustomJS\"}],\"change:labels\":[{\"id\":\"2274\",\"type\":\"CustomJS\"}]},\"labels\":[\"\"],\"margin\":[5,10,5,10],\"sizing_mode\":\"fixed\",\"width\":500},\"id\":\"2270\",\"type\":\"RadioButtonGroup\"},{\"attributes\":{\"children\":[{\"id\":\"2265\",\"type\":\"TextInput\"},{\"id\":\"2270\",\"type\":\"RadioButtonGroup\"},{\"id\":\"2275\",\"type\":\"RadioButtonGroup\"},{\"id\":\"2280\",\"type\":\"Button\"},{\"id\":\"2285\",\"type\":\"Div\"}],\"margin\":[0,0,0,0],\"name\":\"Column00035\"},\"id\":\"2264\",\"type\":\"Column\"},{\"attributes\":{\"margin\":[5,5,5,5],\"name\":\"HSpacer00036\",\"sizing_mode\":\"stretch_width\"},\"id\":\"2260\",\"type\":\"Spacer\"},{\"attributes\":{\"children\":[{\"id\":\"2259\",\"type\":\"Row\"},{\"id\":\"2263\",\"type\":\"HTML\"},{\"id\":\"2264\",\"type\":\"Column\"}],\"margin\":[0,0,0,0],\"name\":\"Column00042\"},\"id\":\"2258\",\"type\":\"Column\"}],\"root_ids\":[\"2258\"]},\"title\":\"Bokeh Application\",\"version\":\"1.3.4\"}};\n",
       "  var render_items = [{\"docid\":\"db92f380-c4c6-4975-b362-0a63c4b1e4bc\",\"roots\":{\"2258\":\"3d0f7be9-d5ec-4779-8320-6bdf3f4023fe\"}}];\n",
       "  root.Bokeh.embed.embed_items_notebook(docs_json, render_items);\n",
       "\n",
       "  }\n",
       "  if (root.Bokeh !== undefined) {\n",
       "    embed_document(root);\n",
       "  } else {\n",
       "    var attempts = 0;\n",
       "    var timer = setInterval(function(root) {\n",
       "      if (root.Bokeh !== undefined) {\n",
       "        embed_document(root);\n",
       "        clearInterval(timer);\n",
       "      }\n",
       "      attempts++;\n",
       "      if (attempts > 100) {\n",
       "        console.log(\"Bokeh: ERROR: Unable to run BokehJS code because BokehJS library is missing\");\n",
       "        clearInterval(timer);\n",
       "      }\n",
       "    }, 10, root)\n",
       "  }\n",
       "})(window);</script>"
      ],
      "text/plain": [
       "Column\n",
       "    [0] Row\n",
       "        [0] HSpacer()\n",
       "        [1] Markdown(str)\n",
       "        [2] HSpacer()\n",
       "    [1] HTML(str)\n",
       "    [2] Column\n",
       "        [0] TextInput(width=400)\n",
       "        [1] RadioButtonGroup(height=30, options=[''], sizing_mode='fixed', width=500)\n",
       "        [2] RadioButtonGroup(disabled=True, height=30, options=[''], sizing_mode='fixed', width=500)\n",
       "        [3] Button(button_type='primary', name='Generate')\n",
       "        [4] Markdown(str)"
      ]
     },
     "execution_count": 15,
     "metadata": {
      "application/vnd.holoviews_exec.v0+json": {
       "id": "2258"
      }
     },
     "output_type": "execute_result"
    }
   ],
   "source": [
    "# this command is needed in order to serve this app in production mode. (make sure to uncomment ofcourse)\n",
    "final_app.servable()"
   ]
  }
 ],
 "metadata": {
  "kernelspec": {
   "display_name": "Python 3",
   "language": "python",
   "name": "python3"
  },
  "language_info": {
   "codemirror_mode": {
    "name": "ipython",
    "version": 3
   },
   "file_extension": ".py",
   "mimetype": "text/x-python",
   "name": "python",
   "nbconvert_exporter": "python",
   "pygments_lexer": "ipython3",
   "version": "3.7.4"
  },
  "varInspector": {
   "cols": {
    "lenName": 16,
    "lenType": 16,
    "lenVar": 40
   },
   "kernels_config": {
    "python": {
     "delete_cmd_postfix": "",
     "delete_cmd_prefix": "del ",
     "library": "var_list.py",
     "varRefreshCmd": "print(var_dic_list())"
    },
    "r": {
     "delete_cmd_postfix": ") ",
     "delete_cmd_prefix": "rm(",
     "library": "var_list.r",
     "varRefreshCmd": "cat(var_dic_list()) "
    }
   },
   "oldHeight": 122.22178,
   "position": {
    "height": "144.427px",
    "left": "1496.67px",
    "right": "20px",
    "top": "120px",
    "width": "350px"
   },
   "types_to_exclude": [
    "module",
    "function",
    "builtin_function_or_method",
    "instance",
    "_Feature"
   ],
   "varInspector_section_display": "block",
   "window_display": false
  }
 },
 "nbformat": 4,
 "nbformat_minor": 2
}
